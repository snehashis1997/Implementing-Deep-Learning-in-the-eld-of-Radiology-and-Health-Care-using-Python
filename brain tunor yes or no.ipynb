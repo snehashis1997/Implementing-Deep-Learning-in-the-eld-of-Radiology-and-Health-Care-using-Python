{
 "cells": [
  {
   "cell_type": "markdown",
   "metadata": {},
   "source": [
    "# importing all libraries"
   ]
  },
  {
   "cell_type": "code",
   "execution_count": 2,
   "metadata": {},
   "outputs": [],
   "source": [
    "from sklearn.metrics import confusion_matrix\n",
    "import cv2\n",
    "import copy\n",
    "import matplotlib.pyplot as plt\n",
    "from tensorflow.keras.models import Sequential\n",
    "from tensorflow.keras.layers import Convolution2D,BatchNormalization,GaussianNoise\n",
    "from tensorflow.keras.layers import MaxPooling2D,ZeroPadding2D\n",
    "from tensorflow.keras.layers import Flatten,Activation\n",
    "from tensorflow.keras.layers import Dense,Dropout\n",
    "from tensorflow.keras.preprocessing.image import ImageDataGenerator\n",
    "from tensorflow.keras.optimizers import Adam,SGD\n",
    "from tensorflow.keras.callbacks import EarlyStopping\n",
    "from tensorflow.keras import initializers\n",
    "import numpy as np\n",
    "from tensorflow.keras import regularizers\n",
    "\n",
    "from glob import glob\n",
    "from sklearn.metrics import confusion_matrix,classification_report\n",
    "from sklearn.metrics import auc,roc_curve"
   ]
  },
  {
   "cell_type": "markdown",
   "metadata": {},
   "source": [
    "\n",
    "# constant terms"
   ]
  },
  {
   "cell_type": "code",
   "execution_count": 3,
   "metadata": {},
   "outputs": [],
   "source": [
    "batchsize = 32\n",
    "seed = 0\n",
    "height=64\n",
    "width=64"
   ]
  },
  {
   "cell_type": "markdown",
   "metadata": {},
   "source": [
    "# definig paths train test validation"
   ]
  },
  {
   "cell_type": "code",
   "execution_count": 4,
   "metadata": {},
   "outputs": [],
   "source": [
    "path_valid=r'C:\\Users\\NRAD\\Desktop\\snehashis internship 2019\\medical dataset\\brain-mri-images-for-brain-tumor-detection\\valid'\n",
    "path_test=r'C:\\Users\\NRAD\\Desktop\\snehashis internship 2019\\medical dataset\\brain-mri-images-for-brain-tumor-detection\\test'\n",
    "path_train=r'C:\\Users\\NRAD\\Desktop\\snehashis internship 2019\\medical dataset\\brain-mri-images-for-brain-tumor-detection\\train'"
   ]
  },
  {
   "cell_type": "markdown",
   "metadata": {},
   "source": [
    "# defining data generator"
   ]
  },
  {
   "cell_type": "code",
   "execution_count": 5,
   "metadata": {},
   "outputs": [],
   "source": [
    "train_datagen = ImageDataGenerator(rescale=1./255,rotation_range=90,horizontal_flip=True)\n",
    "\n",
    "test_datagen = ImageDataGenerator(rescale=1./255)"
   ]
  },
  {
   "cell_type": "markdown",
   "metadata": {},
   "source": [
    "# creating train test validation data"
   ]
  },
  {
   "cell_type": "code",
   "execution_count": 6,
   "metadata": {},
   "outputs": [
    {
     "name": "stdout",
     "output_type": "stream",
     "text": [
      "Found 182 images belonging to 2 classes.\n",
      "Found 46 images belonging to 2 classes.\n",
      "Found 25 images belonging to 2 classes.\n"
     ]
    }
   ],
   "source": [
    "train_generator = train_datagen.flow_from_directory(\n",
    "        path_train,\n",
    "        target_size=(64, 64),\n",
    "        batch_size=32,\n",
    "        class_mode='binary')\n",
    "\n",
    "validation_generator = test_datagen.flow_from_directory(path_valid,\n",
    "        target_size=(64, 64),\n",
    "        batch_size=32,\n",
    "        class_mode='binary')\n",
    "\n",
    "test_generator = test_datagen.flow_from_directory(path_test,\n",
    "        target_size=(64, 64),\n",
    "        batch_size=32,\n",
    "        class_mode='binary')"
   ]
  },
  {
   "cell_type": "markdown",
   "metadata": {},
   "source": [
    "# creating sequential model\n"
   ]
  },
  {
   "cell_type": "code",
   "execution_count": 9,
   "metadata": {},
   "outputs": [],
   "source": [
    "model=Sequential()\n",
    "model.add(GaussianNoise(0.05))\n",
    "model.add(Convolution2D(8,kernel_size=(3,3),\n",
    "                        activation='relu',\n",
    "                        kernel_regularizer=regularizers.l2(0.0001),input_shape=(64,64,3)))\n",
    "model.add(BatchNormalization())\n",
    "model.add(MaxPooling2D(2,2))\n",
    "\n",
    "model.add(Convolution2D(8,kernel_size=(3,3),\n",
    "                        activation='relu',\n",
    "                        kernel_regularizer=regularizers.l2(0.0001)))\n",
    "model.add(BatchNormalization())\n",
    "model.add(MaxPooling2D(2,2))\n",
    "model.add(Dropout(rate=0.5))\n",
    "\n",
    "model.add(Flatten())\n",
    "model.add(Dense(32,\n",
    "                activation='relu',\n",
    "                kernel_regularizer=regularizers.l2(0.0001)))\n",
    "\n",
    "model.add(BatchNormalization())\n",
    "model.add(Dropout(rate=0.8))\n",
    "\n",
    "model.add(Dense(1,activation='sigmoid'))"
   ]
  },
  {
   "cell_type": "markdown",
   "metadata": {},
   "source": [
    "# compiling the model"
   ]
  },
  {
   "cell_type": "code",
   "execution_count": 10,
   "metadata": {},
   "outputs": [],
   "source": [
    "model.compile(loss='binary_crossentropy',\n",
    "              optimizer='rmsprop',\n",
    "              metrics=['acc'])"
   ]
  },
  {
   "cell_type": "markdown",
   "metadata": {},
   "source": [
    "# training the model"
   ]
  },
  {
   "cell_type": "code",
   "execution_count": 11,
   "metadata": {},
   "outputs": [
    {
     "name": "stdout",
     "output_type": "stream",
     "text": [
      "Epoch 1/50\n",
      "6/5 [===============================] - 48s 8s/step - loss: 0.9298 - acc: 0.5345 - val_loss: 0.6508 - val_acc: 0.7391\n",
      "Epoch 2/50\n",
      "6/5 [===============================] - 14s 2s/step - loss: 0.9101 - acc: 0.6779 - val_loss: 0.5839 - val_acc: 0.7609\n",
      "Epoch 3/50\n",
      "6/5 [===============================] - 14s 2s/step - loss: 1.1032 - acc: 0.6876 - val_loss: 0.5688 - val_acc: 0.7609\n",
      "Epoch 4/50\n",
      "6/5 [===============================] - 14s 2s/step - loss: 0.9022 - acc: 0.6339 - val_loss: 0.5510 - val_acc: 0.7609\n",
      "Epoch 5/50\n",
      "6/5 [===============================] - 14s 2s/step - loss: 0.7714 - acc: 0.6735 - val_loss: 0.5479 - val_acc: 0.7609\n",
      "Epoch 6/50\n",
      "6/5 [===============================] - 14s 2s/step - loss: 0.9480 - acc: 0.5929 - val_loss: 0.5318 - val_acc: 0.7609\n",
      "Epoch 7/50\n",
      "6/5 [===============================] - 15s 3s/step - loss: 0.9865 - acc: 0.6918 - val_loss: 0.5471 - val_acc: 0.7609\n",
      "Epoch 8/50\n",
      "6/5 [===============================] - 12s 2s/step - loss: 0.7575 - acc: 0.7080 - val_loss: 0.5475 - val_acc: 0.7609\n",
      "Epoch 9/50\n",
      "6/5 [===============================] - 14s 2s/step - loss: 0.8085 - acc: 0.6392 - val_loss: 0.5454 - val_acc: 0.7609\n",
      "Epoch 10/50\n",
      "6/5 [===============================] - 12s 2s/step - loss: 0.8993 - acc: 0.6203 - val_loss: 0.5438 - val_acc: 0.7609\n",
      "Epoch 11/50\n",
      "6/5 [===============================] - 17s 3s/step - loss: 0.7155 - acc: 0.6849 - val_loss: 0.5425 - val_acc: 0.7609\n",
      "Epoch 12/50\n",
      "6/5 [===============================] - 15s 2s/step - loss: 0.7406 - acc: 0.6558 - val_loss: 0.5341 - val_acc: 0.7609\n",
      "Epoch 13/50\n",
      "6/5 [===============================] - 12s 2s/step - loss: 0.6814 - acc: 0.7719 - val_loss: 0.5392 - val_acc: 0.7609\n",
      "Epoch 14/50\n",
      "6/5 [===============================] - 11s 2s/step - loss: 0.8444 - acc: 0.6624 - val_loss: 0.5299 - val_acc: 0.7609\n",
      "Epoch 15/50\n",
      "6/5 [===============================] - 10s 2s/step - loss: 0.7808 - acc: 0.6361 - val_loss: 0.5373 - val_acc: 0.7609\n",
      "Epoch 16/50\n",
      "6/5 [===============================] - 11s 2s/step - loss: 0.7408 - acc: 0.6347 - val_loss: 0.5227 - val_acc: 0.7609\n",
      "Epoch 17/50\n",
      "6/5 [===============================] - 11s 2s/step - loss: 0.7283 - acc: 0.6778 - val_loss: 0.5289 - val_acc: 0.7609\n",
      "Epoch 18/50\n",
      "6/5 [===============================] - 12s 2s/step - loss: 0.6837 - acc: 0.7038 - val_loss: 0.5178 - val_acc: 0.7609\n",
      "Epoch 19/50\n",
      "6/5 [===============================] - 15s 2s/step - loss: 0.6808 - acc: 0.7231 - val_loss: 0.5175 - val_acc: 0.7609\n",
      "Epoch 20/50\n",
      "6/5 [===============================] - 12s 2s/step - loss: 0.6286 - acc: 0.7134 - val_loss: 0.5119 - val_acc: 0.7609\n",
      "Epoch 21/50\n",
      "6/5 [===============================] - 12s 2s/step - loss: 0.6828 - acc: 0.7180 - val_loss: 0.5100 - val_acc: 0.7609\n",
      "Epoch 22/50\n",
      "6/5 [===============================] - 17s 3s/step - loss: 0.6959 - acc: 0.6297 - val_loss: 0.5039 - val_acc: 0.7609\n",
      "Epoch 23/50\n",
      "6/5 [===============================] - 14s 2s/step - loss: 0.7990 - acc: 0.6850 - val_loss: 0.5001 - val_acc: 0.7609\n",
      "Epoch 24/50\n",
      "6/5 [===============================] - 13s 2s/step - loss: 0.6584 - acc: 0.6803 - val_loss: 0.4912 - val_acc: 0.7609\n",
      "Epoch 25/50\n",
      "6/5 [===============================] - 12s 2s/step - loss: 0.7487 - acc: 0.7024 - val_loss: 0.4864 - val_acc: 0.7609\n",
      "Epoch 26/50\n",
      "6/5 [===============================] - 11s 2s/step - loss: 0.6541 - acc: 0.6920 - val_loss: 0.4792 - val_acc: 0.7609\n",
      "Epoch 27/50\n",
      "6/5 [===============================] - 12s 2s/step - loss: 0.6808 - acc: 0.7030 - val_loss: 0.4913 - val_acc: 0.7609\n",
      "Epoch 28/50\n",
      "6/5 [===============================] - 13s 2s/step - loss: 0.5658 - acc: 0.7420 - val_loss: 0.4833 - val_acc: 0.7609\n",
      "Epoch 29/50\n",
      "6/5 [===============================] - 12s 2s/step - loss: 0.6914 - acc: 0.7068 - val_loss: 0.4836 - val_acc: 0.7609\n",
      "Epoch 30/50\n",
      "6/5 [===============================] - 13s 2s/step - loss: 0.7073 - acc: 0.6583 - val_loss: 0.4856 - val_acc: 0.7609\n",
      "Epoch 31/50\n",
      "6/5 [===============================] - 14s 2s/step - loss: 0.6504 - acc: 0.6898 - val_loss: 0.4852 - val_acc: 0.7609\n",
      "Epoch 32/50\n",
      "6/5 [===============================] - 14s 2s/step - loss: 0.5963 - acc: 0.7053 - val_loss: 0.4952 - val_acc: 0.7609\n",
      "Epoch 33/50\n",
      "6/5 [===============================] - 14s 2s/step - loss: 0.5878 - acc: 0.7027 - val_loss: 0.4802 - val_acc: 0.7609\n",
      "Epoch 34/50\n",
      "6/5 [===============================] - 14s 2s/step - loss: 0.6619 - acc: 0.7460 - val_loss: 0.4780 - val_acc: 0.7826\n",
      "Epoch 35/50\n",
      "6/5 [===============================] - 13s 2s/step - loss: 0.7601 - acc: 0.6934 - val_loss: 0.4952 - val_acc: 0.7826\n",
      "Epoch 36/50\n",
      "6/5 [===============================] - 13s 2s/step - loss: 0.5577 - acc: 0.7534 - val_loss: 0.4951 - val_acc: 0.7826\n",
      "Epoch 37/50\n",
      "6/5 [===============================] - 12s 2s/step - loss: 0.5386 - acc: 0.7753 - val_loss: 0.4926 - val_acc: 0.7826\n",
      "Epoch 38/50\n",
      "6/5 [===============================] - 13s 2s/step - loss: 0.6504 - acc: 0.6759 - val_loss: 0.4952 - val_acc: 0.7826\n",
      "Epoch 39/50\n",
      "6/5 [===============================] - 14s 2s/step - loss: 0.5654 - acc: 0.7330 - val_loss: 0.5097 - val_acc: 0.7826\n",
      "Epoch 40/50\n",
      "6/5 [===============================] - 20s 3s/step - loss: 0.5471 - acc: 0.7569 - val_loss: 0.5207 - val_acc: 0.8043\n",
      "Epoch 41/50\n",
      "6/5 [===============================] - 15s 3s/step - loss: 0.6121 - acc: 0.7100 - val_loss: 0.4983 - val_acc: 0.7826\n",
      "Epoch 42/50\n",
      "6/5 [===============================] - 13s 2s/step - loss: 0.5936 - acc: 0.7176 - val_loss: 0.5092 - val_acc: 0.7826\n",
      "Epoch 43/50\n",
      "6/5 [===============================] - 13s 2s/step - loss: 0.5282 - acc: 0.7581 - val_loss: 0.4984 - val_acc: 0.7826\n",
      "Epoch 44/50\n",
      "6/5 [===============================] - 16s 3s/step - loss: 0.6235 - acc: 0.7588 - val_loss: 0.4834 - val_acc: 0.7826\n",
      "Epoch 45/50\n",
      "6/5 [===============================] - 16s 3s/step - loss: 0.5423 - acc: 0.6919 - val_loss: 0.4817 - val_acc: 0.7826\n",
      "Epoch 46/50\n",
      "6/5 [===============================] - 12s 2s/step - loss: 0.6074 - acc: 0.6974 - val_loss: 0.4794 - val_acc: 0.7609\n",
      "Epoch 47/50\n",
      "6/5 [===============================] - 14s 2s/step - loss: 0.5917 - acc: 0.7216 - val_loss: 0.4741 - val_acc: 0.7826\n",
      "Epoch 48/50\n",
      "6/5 [===============================] - 13s 2s/step - loss: 0.5627 - acc: 0.6721 - val_loss: 0.4693 - val_acc: 0.7826\n",
      "Epoch 49/50\n",
      "6/5 [===============================] - 15s 2s/step - loss: 0.5333 - acc: 0.7867 - val_loss: 0.4740 - val_acc: 0.7826\n",
      "Epoch 50/50\n",
      "6/5 [===============================] - 14s 2s/step - loss: 0.5284 - acc: 0.7700 - val_loss: 0.4817 - val_acc: 0.7609\n"
     ]
    }
   ],
   "source": [
    "output= model.fit_generator(train_generator, steps_per_epoch=182/batchsize, epochs=50,\n",
    "                      callbacks=None, validation_data=validation_generator, \n",
    "                      validation_steps=46)"
   ]
  },
  {
   "cell_type": "markdown",
   "metadata": {},
   "source": [
    "# plotting  accuracy and  loss curves"
   ]
  },
  {
   "cell_type": "code",
   "execution_count": null,
   "metadata": {},
   "outputs": [],
   "source": [
    "plt.plot(output.history['acc'])\n",
    "plt.plot(output.history['val_acc'])\n",
    "plt.title('classifier  based accuracy')\n",
    "plt.ylabel('accuracy')\n",
    "plt.xlabel('epoch')\n",
    "plt.legend(['train', 'valid'], loc='upper left')\n",
    "plt.show()\n",
    "# summarize history for loss\n",
    "plt.plot(output.history['loss'])\n",
    "plt.plot(output.history['val_loss'])\n",
    "plt.title('classifier based loss')\n",
    "plt.ylabel('loss')\n",
    "plt.xlabel('epoch')\n",
    "plt.legend(['train', 'valid'], loc='upper left')\n",
    "plt.show()"
   ]
  },
  {
   "cell_type": "markdown",
   "metadata": {},
   "source": [
    "# creating y_true values"
   ]
  },
  {
   "cell_type": "code",
   "execution_count": null,
   "metadata": {},
   "outputs": [],
   "source": [
    "zero=np.zeros((10,1))\n",
    "\n",
    "ones=np.ones((15,1))\n",
    "\n",
    "y_true=np.concatenate((zero,ones))"
   ]
  },
  {
   "cell_type": "markdown",
   "metadata": {},
   "source": [
    "# predicting y_hat values"
   ]
  },
  {
   "cell_type": "code",
   "execution_count": null,
   "metadata": {},
   "outputs": [],
   "source": [
    "y_hat=[]\n",
    "path_test_png=r'C:\\Users\\NRAD\\Desktop\\snehashis internship 2019\\medical dataset\\brain-mri-images-for-brain-tumor-detection\\test\\*.*'\n",
    "from tensorflow.keras.preprocessing import image\n",
    "pngss=glob(path_test_png)\n",
    "for i in range(len(pngss)):\n",
    "    test_image = image.load_img(pngss[i] ,target_size= (64,64))\n",
    "    arr = np.array(test_image)\n",
    "    arr = np.true_divide(arr,[255.0],out=None)\n",
    "\n",
    "\n",
    "# Changing the input of the size...\n",
    "    test_image = image.img_to_array(arr)\n",
    "\n",
    "# Adding a new dimension (the placement of the image in the batchsize)\n",
    "    test_image = np.expand_dims(test_image, axis=0)\n",
    "\n",
    "    predic_classes = model.predict_classes(test_image)\n",
    "    y_hat.append(predic_classes[0])"
   ]
  },
  {
   "cell_type": "markdown",
   "metadata": {},
   "source": [
    "# confusionmatrix creating"
   ]
  },
  {
   "cell_type": "code",
   "execution_count": null,
   "metadata": {},
   "outputs": [],
   "source": [
    "cm=confusion_matrix(y_true,y_hat)"
   ]
  },
  {
   "cell_type": "markdown",
   "metadata": {},
   "source": [
    "# AUC value "
   ]
  },
  {
   "cell_type": "code",
   "execution_count": null,
   "metadata": {},
   "outputs": [],
   "source": [
    "y_true=list(y_true)\n",
    "y_hat=list(y_hat)\n",
    "\n",
    "#classi_report=classification_report(y_true, y_hat)\n",
    "fpr_keras, tpr_keras, thresholds_keras = roc_curve(y_true, y_hat)\n",
    "auc_curve=auc(fpr_keras, tpr_keras)"
   ]
  },
  {
   "cell_type": "markdown",
   "metadata": {},
   "source": [
    "# testing accuracy"
   ]
  },
  {
   "cell_type": "code",
   "execution_count": null,
   "metadata": {},
   "outputs": [],
   "source": [
    "test_accuracy=(cm[0,0]+cm[1,1])/(cm[0,0]+cm[1,1]+cm[1,0]+cm[0,1])"
   ]
  },
  {
   "cell_type": "markdown",
   "metadata": {},
   "source": [
    "# printing auc value,cm matrix,test accuracy"
   ]
  },
  {
   "cell_type": "code",
   "execution_count": null,
   "metadata": {},
   "outputs": [],
   "source": [
    "print('auc score is:'+str(auc_curve))\n",
    "\n",
    "print('predict accuracy:'+str(test_accuracy))\n",
    "\n",
    "print(cm)"
   ]
  },
  {
   "cell_type": "markdown",
   "metadata": {},
   "source": [
    "# saving model as h5\n"
   ]
  },
  {
   "cell_type": "code",
   "execution_count": null,
   "metadata": {},
   "outputs": [],
   "source": [
    "model.save_weights(r'C:\\Users\\NRAD\\Desktop\\snehashis internship 2019\\model\\model_brain_yes_or_n0_auc:0.84.h5')"
   ]
  }
 ],
 "metadata": {
  "kernelspec": {
   "display_name": "Python 3",
   "language": "python",
   "name": "python3"
  },
  "language_info": {
   "codemirror_mode": {
    "name": "ipython",
    "version": 3
   },
   "file_extension": ".py",
   "mimetype": "text/x-python",
   "name": "python",
   "nbconvert_exporter": "python",
   "pygments_lexer": "ipython3",
   "version": "3.6.5"
  }
 },
 "nbformat": 4,
 "nbformat_minor": 2
}
