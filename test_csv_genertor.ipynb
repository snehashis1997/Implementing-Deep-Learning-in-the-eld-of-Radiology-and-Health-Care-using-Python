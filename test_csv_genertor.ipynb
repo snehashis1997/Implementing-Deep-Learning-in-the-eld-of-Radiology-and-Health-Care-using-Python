{
 "cells": [
  {
   "cell_type": "code",
   "execution_count": 47,
   "metadata": {},
   "outputs": [],
   "source": [
    "import numpy as np\n",
    "\n",
    "import pandas as pd\n",
    "\n",
    "from glob import glob"
   ]
  },
  {
   "cell_type": "code",
   "execution_count": 48,
   "metadata": {},
   "outputs": [
    {
     "name": "stdout",
     "output_type": "stream",
     "text": [
      "255\n",
      "okay\n"
     ]
    }
   ],
   "source": [
    "path=r'D:\\medical datasets\\breast-cancer-dataset-from-breakhis\\fold1\\test\\40X\\B_40X\\*.png'\n",
    "\n",
    "pngs_test=glob(path)\n",
    "\n",
    "print(len(pngs_test))\n",
    "\n",
    "zeros=np.zeros((len(pngs_test),2))\n",
    "\n",
    "df=pd.DataFrame(zeros,columns=['binary','multiclass'])\n",
    "\n",
    "print('okay')"
   ]
  },
  {
   "cell_type": "code",
   "execution_count": 49,
   "metadata": {},
   "outputs": [],
   "source": [
    "for i in range(len(pngs_test)):\n",
    "    \n",
    "    index1=pngs_test[i].index('_')\n",
    "\n",
    "    index2=pngs_test[i].index('_',index1+1)\n",
    "\n",
    "    index3=pngs_test[i].index('-')\n",
    "    \n",
    "    binary_class=path[index1+1]\n",
    "    \n",
    "    multiclass=path[index1+3:index3]\n",
    "    \n",
    "    if binary_class==str('B'):\n",
    "    \n",
    "        df['binary'][i]=0\n",
    "    \n",
    "    else:\n",
    "    \n",
    "        df['binary'][i]=1\n",
    "        \n",
    "    if multiclass==str('A'):\n",
    "    \n",
    "        df['multiclass'][i]=2\n",
    "    \n",
    "    elif multiclass==str('F'):\n",
    "    \n",
    "        df['multiclass'][i]=3\n",
    "    \n",
    "    elif multiclass==str('PT'):\n",
    "    \n",
    "        df['multiclass'][i]=4\n",
    "    \n",
    "    elif multiclass==str('TA'):\n",
    "    \n",
    "        df['multiclass'][i]=5\n",
    "    \n",
    "    elif multiclass==str('DC'):\n",
    "    \n",
    "        df['multiclass'][i]=6\n",
    "    \n",
    "    elif multiclass==str('LC'):\n",
    "    \n",
    "        df['multiclass'][i]=7\n",
    "    \n",
    "    elif multiclass==str('MC'):\n",
    "    \n",
    "        df['multiclass'][i]=8\n",
    "    \n",
    "    elif multiclass==str('PC'):\n",
    "    \n",
    "        df['multiclass'][i]=9\n"
   ]
  },
  {
   "cell_type": "code",
   "execution_count": 52,
   "metadata": {},
   "outputs": [
    {
     "data": {
      "text/plain": [
       "'4'"
      ]
     },
     "execution_count": 52,
     "metadata": {},
     "output_type": "execute_result"
    }
   ],
   "source": [
    "binary_class=path[index1+1]\n",
    "binary_class"
   ]
  },
  {
   "cell_type": "code",
   "execution_count": 50,
   "metadata": {},
   "outputs": [],
   "source": [
    "name=r'C:\\Users\\NRAD.NRAD-28\\Desktop\\codec_test_csv.csv'\n",
    "\n",
    "df.to_csv(name)"
   ]
  },
  {
   "cell_type": "code",
   "execution_count": 51,
   "metadata": {},
   "outputs": [
    {
     "data": {
      "text/plain": [
       "<bound method NDFrame.head of      binary  multiclass\n",
       "0       1.0         0.0\n",
       "1       1.0         0.0\n",
       "2       1.0         0.0\n",
       "3       1.0         0.0\n",
       "4       1.0         0.0\n",
       "5       1.0         0.0\n",
       "6       1.0         0.0\n",
       "7       1.0         0.0\n",
       "8       1.0         0.0\n",
       "9       1.0         0.0\n",
       "10      1.0         0.0\n",
       "11      1.0         0.0\n",
       "12      1.0         0.0\n",
       "13      1.0         0.0\n",
       "14      1.0         0.0\n",
       "15      1.0         0.0\n",
       "16      1.0         0.0\n",
       "17      1.0         0.0\n",
       "18      1.0         0.0\n",
       "19      1.0         0.0\n",
       "20      1.0         0.0\n",
       "21      1.0         0.0\n",
       "22      1.0         0.0\n",
       "23      1.0         0.0\n",
       "24      1.0         0.0\n",
       "25      1.0         0.0\n",
       "26      1.0         0.0\n",
       "27      1.0         0.0\n",
       "28      1.0         0.0\n",
       "29      1.0         0.0\n",
       "..      ...         ...\n",
       "225     1.0         0.0\n",
       "226     1.0         0.0\n",
       "227     1.0         0.0\n",
       "228     1.0         0.0\n",
       "229     1.0         0.0\n",
       "230     1.0         0.0\n",
       "231     1.0         0.0\n",
       "232     1.0         0.0\n",
       "233     1.0         0.0\n",
       "234     1.0         0.0\n",
       "235     1.0         0.0\n",
       "236     1.0         0.0\n",
       "237     1.0         0.0\n",
       "238     1.0         0.0\n",
       "239     1.0         0.0\n",
       "240     1.0         0.0\n",
       "241     1.0         0.0\n",
       "242     1.0         0.0\n",
       "243     1.0         0.0\n",
       "244     1.0         0.0\n",
       "245     1.0         0.0\n",
       "246     1.0         0.0\n",
       "247     1.0         0.0\n",
       "248     1.0         0.0\n",
       "249     1.0         0.0\n",
       "250     1.0         0.0\n",
       "251     1.0         0.0\n",
       "252     1.0         0.0\n",
       "253     1.0         0.0\n",
       "254     1.0         0.0\n",
       "\n",
       "[255 rows x 2 columns]>"
      ]
     },
     "execution_count": 51,
     "metadata": {},
     "output_type": "execute_result"
    }
   ],
   "source": [
    "df.head"
   ]
  },
  {
   "cell_type": "code",
   "execution_count": null,
   "metadata": {},
   "outputs": [],
   "source": []
  },
  {
   "cell_type": "code",
   "execution_count": null,
   "metadata": {},
   "outputs": [],
   "source": []
  }
 ],
 "metadata": {
  "kernelspec": {
   "display_name": "Python 3",
   "language": "python",
   "name": "python3"
  },
  "language_info": {
   "codemirror_mode": {
    "name": "ipython",
    "version": 3
   },
   "file_extension": ".py",
   "mimetype": "text/x-python",
   "name": "python",
   "nbconvert_exporter": "python",
   "pygments_lexer": "ipython3",
   "version": "3.7.3"
  }
 },
 "nbformat": 4,
 "nbformat_minor": 2
}
