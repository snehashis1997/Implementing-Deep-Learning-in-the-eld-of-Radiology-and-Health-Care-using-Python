{
 "cells": [
  {
   "cell_type": "markdown",
   "metadata": {},
   "source": [
    "Beningn tumors paths****"
   ]
  },
  {
   "cell_type": "code",
   "execution_count": 13,
   "metadata": {},
   "outputs": [],
   "source": [
    "import numpy as np\n",
    "seed = 42\n",
    "np.random.seed(seed)"
   ]
  },
  {
   "cell_type": "code",
   "execution_count": 14,
   "metadata": {},
   "outputs": [],
   "source": [
    "from sklearn.metrics import confusion_matrix\n",
    "import cv2\n",
    "import copy\n",
    "import matplotlib.pyplot as plt\n",
    "from keras.layers import Conv2D,BatchNormalization\n",
    "from keras.layers import Flatten,Activation\n",
    "from keras.layers import Dropout\n",
    "from keras.optimizers import Adam\n",
    "from keras.callbacks import EarlyStopping\n",
    "from keras import initializers\n",
    "import numpy as np\n",
    "from keras import regularizers\n",
    "\n",
    "from sklearn.preprocessing import LabelEncoder\n",
    "from keras.utils.np_utils import to_categorical\n",
    "from sklearn.metrics import confusion_matrix,classification_report\n",
    "from sklearn.metrics import auc,roc_curve\n",
    "\n",
    "from sklearn.model_selection import train_test_split\n",
    "from keras.utils.np_utils import to_categorical # convert to one-hot-encoding\n",
    "from keras.layers import Dense\n",
    "from keras.preprocessing.image import ImageDataGenerator\n",
    "from keras.callbacks import ReduceLROnPlateau\n",
    "from glob import glob\n",
    "\n",
    "import os"
   ]
  },
  {
   "cell_type": "code",
   "execution_count": 15,
   "metadata": {},
   "outputs": [],
   "source": [
    "from keras.applications.vgg16 import VGG16\n",
    "from keras.applications.vgg19 import VGG19\n",
    "from keras.layers import Input,GlobalAveragePooling2D\n",
    "from keras.models import Model"
   ]
  },
  {
   "cell_type": "code",
   "execution_count": 16,
   "metadata": {},
   "outputs": [],
   "source": [
    "height=128\n",
    "\n",
    "width=128\n",
    "\n",
    "batchsize=32"
   ]
  },
  {
   "cell_type": "code",
   "execution_count": 17,
   "metadata": {
    "_cell_guid": "79c7e3d0-c299-4dcb-8224-4455121ee9b0",
    "_uuid": "d629ff2d2480ee46fbb7e2d37f6b5fab8052498a"
   },
   "outputs": [],
   "source": [
    "path_adenosis=r'D:\\medical datasets\\breakhist-dataset\\BreakHist_Dataset\\40X\\Benign\\adenosis\\*.png'\n",
    "\n",
    "path_fibroadenoma=r'D:\\medical datasets\\breakhist-dataset\\BreakHist_Dataset\\40X\\Benign\\fibroadenoma\\*.png'\n",
    "\n",
    "path_phyllodes_tumor=r'D:\\medical datasets\\breakhist-dataset\\BreakHist_Dataset\\40X\\Benign\\phyllodes_tumor\\*.png'\n",
    "\n",
    "path_tubular_adenoma=r'D:\\medical datasets\\breakhist-dataset\\BreakHist_Dataset\\40X\\Benign\\tubular_adenoma\\*.png'"
   ]
  },
  {
   "cell_type": "markdown",
   "metadata": {},
   "source": [
    "Malignant tumor dataset"
   ]
  },
  {
   "cell_type": "code",
   "execution_count": 18,
   "metadata": {},
   "outputs": [],
   "source": [
    "path_ductal_carcinoma=r'D:\\medical datasets\\breakhist-dataset\\BreakHist_Dataset\\40X\\Malignant\\ductal_carcinoma\\*.png'\n",
    "\n",
    "path_lobular_carcinoma=r'D:\\medical datasets\\breakhist-dataset\\BreakHist_Dataset\\40X\\Malignant\\lobular_carcinoma\\*.png'\n",
    "\n",
    "path_mucinous_carcinoma=r'D:\\medical datasets\\breakhist-dataset\\BreakHist_Dataset\\40X\\Malignant\\mucinous_carcinoma\\*.png'\n",
    "\n",
    "path_papillary_carcinoma=r'D:\\medical datasets\\breakhist-dataset\\BreakHist_Dataset\\40X\\Malignant\\papillary_carcinoma\\*.png'"
   ]
  },
  {
   "cell_type": "code",
   "execution_count": 19,
   "metadata": {},
   "outputs": [
    {
     "name": "stdout",
     "output_type": "stream",
     "text": [
      "okay\n"
     ]
    }
   ],
   "source": [
    "pngs_adenosis=glob(path_adenosis)\n",
    "\n",
    "pngs_fibroadenoma=glob(path_fibroadenoma)\n",
    "\n",
    "pngs_phyllodes_tumor=glob(path_phyllodes_tumor)\n",
    "\n",
    "pngs_tubular_adenoma=glob(path_tubular_adenoma)\n",
    "\n",
    "print('okay')"
   ]
  },
  {
   "cell_type": "code",
   "execution_count": 20,
   "metadata": {},
   "outputs": [
    {
     "data": {
      "text/plain": [
       "(0, 0, 0, 0)"
      ]
     },
     "execution_count": 20,
     "metadata": {},
     "output_type": "execute_result"
    }
   ],
   "source": [
    "len(pngs_adenosis),len(pngs_fibroadenoma),len(pngs_phyllodes_tumor),len(pngs_tubular_adenoma)"
   ]
  },
  {
   "cell_type": "code",
   "execution_count": 21,
   "metadata": {},
   "outputs": [
    {
     "name": "stdout",
     "output_type": "stream",
     "text": [
      "okay\n"
     ]
    }
   ],
   "source": [
    "pngs_ductal_carcinoma=glob(path_ductal_carcinoma)\n",
    "\n",
    "pngs_lobular_carcinoma=glob(path_lobular_carcinoma)\n",
    "\n",
    "pngs_mucinous_carcinoma=glob(path_mucinous_carcinoma)\n",
    "\n",
    "pngs_papillary_carcinoma=glob(path_papillary_carcinoma)\n",
    "\n",
    "print('okay')"
   ]
  },
  {
   "cell_type": "markdown",
   "metadata": {},
   "source": [
    "for multi class \n",
    "\n",
    "0--->Beningn\n",
    "\n",
    "1---->malignant\n",
    "\n",
    "2----->adenosis\n",
    "\n",
    "3------>fibroadenoma\n",
    "\n",
    "4------>phyllodes_tumor\n",
    "\n",
    "5------->tubular_adenoma\n",
    "\n",
    "6------->ductal_carcinoma\n",
    "\n",
    "7------->lobular_carcinoma\n",
    "\n",
    "8--------->mucinous_carcinoma\n",
    "\n",
    "9---------->papillary_carcinoma\n"
   ]
  },
  {
   "cell_type": "code",
   "execution_count": null,
   "metadata": {},
   "outputs": [],
   "source": [
    "len(pngs_ductal_carcinoma),len(pngs_lobular_carcinoma),len(pngs_papillary_carcinoma),len(pngs_mucinous_carcinoma)"
   ]
  },
  {
   "cell_type": "code",
   "execution_count": null,
   "metadata": {},
   "outputs": [],
   "source": [
    "dataset_binary=list()\n",
    "\n",
    "dataset_multiclass=list()\n",
    "\n",
    "y_true_binary=[]\n",
    "\n",
    "y_true_multiclass=[]\n",
    "\n",
    "for i in range(len(pngs_adenosis)):\n",
    "    \n",
    "    img=cv2.imread(pngs_adenosis[i])\n",
    "    \n",
    "    img=cv2.resize(img,(height,width))\n",
    "    \n",
    "    dataset_multiclass.append(img)\n",
    "    \n",
    "    y_true_multiclass.append(2)\n",
    "    \n",
    "    dataset_binary.append(img)\n",
    "    \n",
    "    y_true_binary.append(0)\n",
    "    \n",
    "for i in range(len(pngs_fibroadenoma)):\n",
    "    \n",
    "        \n",
    "    img=cv2.imread(pngs_fibroadenoma[i])\n",
    "    \n",
    "    img=cv2.resize(img,(height,width))\n",
    "\n",
    "    dataset_multiclass.append(img)\n",
    "    \n",
    "    y_true_multiclass.append(3)\n",
    "    \n",
    "    dataset_binary.append(img)\n",
    "    \n",
    "    y_true_binary.append(0)\n",
    "    \n",
    "    \n",
    "for i in range(len(pngs_phyllodes_tumor)):\n",
    "    \n",
    "        \n",
    "    img=cv2.imread(pngs_phyllodes_tumor[i])\n",
    "    \n",
    "    img=cv2.resize(img,(height,width))\n",
    "\n",
    "    dataset_multiclass.append(img)\n",
    "    \n",
    "    y_true_multiclass.append(4)\n",
    "    \n",
    "    dataset_binary.append(img)\n",
    "    \n",
    "    y_true_binary.append(0)\n",
    "    \n",
    "    \n",
    "for i in range(len(pngs_tubular_adenoma)):\n",
    "    \n",
    "        \n",
    "    img=cv2.imread(pngs_tubular_adenoma[i])\n",
    "    \n",
    "    img=cv2.resize(img,(height,width))\n",
    "    \n",
    "    dataset_multiclass.append(img)\n",
    "    \n",
    "    y_true_multiclass.append(5)\n",
    "    \n",
    "    dataset_binary.append(img)\n",
    "    \n",
    "    y_true_binary.append(1)\n",
    "    \n",
    "for i in range(len(pngs_ductal_carcinoma)):\n",
    "    \n",
    "        \n",
    "    img=cv2.imread(pngs_ductal_carcinoma[i])\n",
    "    \n",
    "    img=cv2.resize(img,(height,width))\n",
    "    \n",
    "    dataset_multiclass.append(img)\n",
    "    \n",
    "    y_true_multiclass.append(6)\n",
    "    \n",
    "    dataset_binary.append(img)\n",
    "    \n",
    "    y_true_binary.append(1)\n",
    "    \n",
    "for i in range(len(pngs_lobular_carcinoma)):\n",
    "    \n",
    "        \n",
    "    img=cv2.imread(pngs_lobular_carcinoma[i])\n",
    "    \n",
    "    img=cv2.resize(img,(height,width))\n",
    "\n",
    "    dataset_multiclass.append(img)\n",
    "    \n",
    "    y_true_multiclass.append(7)\n",
    "    \n",
    "    dataset_binary.append(img)\n",
    "    \n",
    "    y_true_binary.append(1)\n",
    "    \n",
    "for i in range(len(pngs_mucinous_carcinoma)):\n",
    "        \n",
    "    img=cv2.imread(pngs_mucinous_carcinoma[i])\n",
    "    \n",
    "    img=cv2.resize(img,(height,width))\n",
    "\n",
    "    dataset_multiclass.append(img)\n",
    "    \n",
    "    y_true_multiclass.append(8)\n",
    "    \n",
    "    dataset_binary.append(img)\n",
    "    \n",
    "    y_true_binary.append(1)\n",
    "    \n",
    "for i in range(len(pngs_papillary_carcinoma)):\n",
    "    \n",
    "        \n",
    "    img=cv2.imread(pngs_papillary_carcinoma[i])\n",
    "    \n",
    "    img=cv2.resize(img,(height,width))\n",
    "\n",
    "    dataset_multiclass.append(img)\n",
    "    \n",
    "    y_true_multiclass.append(9)\n",
    "    \n",
    "    dataset_binary.append(img)\n",
    "    \n",
    "    y_true_binary.append(1)\n",
    "\n",
    "print('okay')"
   ]
  },
  {
   "cell_type": "code",
   "execution_count": null,
   "metadata": {},
   "outputs": [],
   "source": [
    "dataset_multiclass=np.array(dataset_multiclass)\n",
    "\n",
    "dataset_binary=np.array(dataset_binary)\n",
    "\n",
    "y_true_binary=np.array(y_true_binary)\n",
    "\n",
    "y_true_multiclass=np.array(y_true_multiclass)\n",
    "\n",
    "print('okay')"
   ]
  },
  {
   "cell_type": "code",
   "execution_count": null,
   "metadata": {},
   "outputs": [],
   "source": [
    "dataset_multiclass.shape,dataset_binary.shape,y_true_binary.shape,y_true_multiclass.shape"
   ]
  },
  {
   "cell_type": "code",
   "execution_count": null,
   "metadata": {},
   "outputs": [],
   "source": [
    "encoder = LabelEncoder()\n",
    "encoder.fit(y_true_multiclass)\n",
    "y_true_multiclass = encoder.transform(y_true_multiclass)\n",
    "y_true_multiclass = to_categorical(y_true_multiclass)\n",
    "\n",
    "print('okay')"
   ]
  },
  {
   "cell_type": "code",
   "execution_count": null,
   "metadata": {},
   "outputs": [],
   "source": [
    "x_trainset_multiclass,x_test_multiclass,y_trainset_multiclasss,y_test_multiclass=train_test_split(dataset_multiclass,y_true_multiclass,\n",
    "                                                                                                  test_size=0.2)\n",
    "\n",
    "x_train_multiclass,x_val_multiclass,y_train_multiclass,y_val_multiclass=train_test_split(x_trainset_multiclass,y_trainset_multiclasss,\n",
    "                                                                                                  test_size=0.3)\n",
    "\n",
    "print('okay')"
   ]
  },
  {
   "cell_type": "code",
   "execution_count": null,
   "metadata": {},
   "outputs": [],
   "source": [
    "x_trainset_binary,x_test_binary,y_trainset_binary,y_test_binary=train_test_split(dataset_binary,y_true_binary,\n",
    "                                                                                 test_size=0.3)\n",
    "\n",
    "\n",
    "x_train_binary,x_val_binary,y_train_binary,y_val_binary=train_test_split(x_trainset_binary,y_trainset_binary,\n",
    "                                                                         test_size=0.3)\n",
    "\n",
    "\n",
    "print('okay')"
   ]
  },
  {
   "cell_type": "code",
   "execution_count": null,
   "metadata": {},
   "outputs": [],
   "source": [
    "x_train_binary=np.array(x_train_binary)"
   ]
  },
  {
   "cell_type": "code",
   "execution_count": null,
   "metadata": {},
   "outputs": [],
   "source": [
    "type(x_train_binary)"
   ]
  },
  {
   "cell_type": "code",
   "execution_count": null,
   "metadata": {},
   "outputs": [],
   "source": [
    "x_train_binary.shape"
   ]
  },
  {
   "cell_type": "code",
   "execution_count": null,
   "metadata": {},
   "outputs": [],
   "source": [
    "a = np.array([[1,2,3], [4,5,6]])\n",
    "\n",
    "a.shape"
   ]
  },
  {
   "cell_type": "code",
   "execution_count": null,
   "metadata": {},
   "outputs": [],
   "source": [
    "x_train_binary = x_train_binary.reshape(-1,height,width,3)\n",
    "\n",
    "x_test_binary = x_test_binary.reshape(-1,height,width,3)\n",
    "\n",
    "x_val_binary=x_val_binary.reshape(-1,height,width,3)\n",
    "\n",
    "print('okay')"
   ]
  },
  {
   "cell_type": "code",
   "execution_count": null,
   "metadata": {},
   "outputs": [],
   "source": [
    "x_train_binary = x_train_binary/np.max(x_train_binary)\n",
    "\n",
    "x_test_binary = x_test_binary/np.max(x_test_binary)\n",
    "\n",
    "x_val_binary=x_val_binary/np.max(x_val_binary)\n",
    "\n",
    "print('okay')"
   ]
  },
  {
   "cell_type": "code",
   "execution_count": null,
   "metadata": {},
   "outputs": [],
   "source": [
    "np.max(x_val_binary),np.max(x_test_binary),np.max(x_train_binary)"
   ]
  },
  {
   "cell_type": "code",
   "execution_count": null,
   "metadata": {},
   "outputs": [],
   "source": [
    "x_train_multiclass = x_train_multiclass.reshape(-1,height,width,3)\n",
    "\n",
    "x_test_multiclass = x_test_multiclass.reshape(-1,height,width,3)\n",
    "\n",
    "x_val_multiclass=x_val_multiclass.reshape(-1,height,width,3)\n",
    "\n",
    "print('okay')"
   ]
  },
  {
   "cell_type": "code",
   "execution_count": null,
   "metadata": {},
   "outputs": [],
   "source": [
    "x_train_multiclass = x_train_multiclass/np.max(x_train_multiclass)\n",
    "\n",
    "x_test_multiclass = x_test_multiclass/np.max(x_test_multiclass)\n",
    "\n",
    "x_val_multiclass=x_val_multiclass/np.max(x_val_multiclass)\n",
    "\n",
    "print('okay')"
   ]
  },
  {
   "cell_type": "code",
   "execution_count": null,
   "metadata": {},
   "outputs": [],
   "source": [
    "np.max(x_train_multiclass),np.max(x_test_multiclass),np.max(x_val_multiclass)"
   ]
  },
  {
   "cell_type": "code",
   "execution_count": null,
   "metadata": {},
   "outputs": [],
   "source": [
    "from tensorflow.python.framework import ops\n",
    "ops.reset_default_graph()"
   ]
  },
  {
   "cell_type": "code",
   "execution_count": null,
   "metadata": {},
   "outputs": [],
   "source": [
    "vgg16 = VGG16(weights = 'imagenet', \n",
    "                 include_top = False, \n",
    "                 input_shape = (height, width, 3))\n",
    "\n",
    "# Here we freeze the last 4 layers \n",
    "# Layers are set to trainable as True by default\n",
    "for layer in vgg16.layers:\n",
    "    layer.trainable = False"
   ]
  },
  {
   "cell_type": "code",
   "execution_count": null,
   "metadata": {},
   "outputs": [],
   "source": [
    "# Let's print our layers \n",
    "for (i,layer) in enumerate(vgg16.layers):\n",
    "    print(str(i) + \" \"+ layer.__class__.__name__, layer.trainable)"
   ]
  },
  {
   "cell_type": "code",
   "execution_count": null,
   "metadata": {},
   "outputs": [],
   "source": [
    "def addTopModelVGG16(bottom_model, num_classes):\n",
    "    \"\"\"creates the top or head of the model that will be \n",
    "    placed ontop of the bottom layers\"\"\"\n",
    "\n",
    "    x = bottom_model.output\n",
    "    x = Flatten(name = \"flatten\")(x)# let's add a fully-connected layer\n",
    "    x = Dense(512,kernel_regularizer=regularizers.l2(0.00001),activation='relu')(x)\n",
    "    x = BatchNormalization()(x)\n",
    "    x = Dropout(0.5)(x)\n",
    "\n",
    "    x = Dense(256,kernel_regularizer=regularizers.l2(0.00001),activation='relu')(x)\n",
    "    x = BatchNormalization()(x)\n",
    "    x = Dropout(0.5)(x)\n",
    "\n",
    "    # and a logistic layer -- let's say we have 200 classes\n",
    "    predictions = Dense(1, activation='sigmoid')(x)\n",
    "    return predictions"
   ]
  },
  {
   "cell_type": "code",
   "execution_count": null,
   "metadata": {},
   "outputs": [],
   "source": [
    "# Set our class number to 3 (Young, Middle, Old)\n",
    "num_classes = 2\n",
    "\n",
    "FC_Head = addTopModelVGG16(vgg16, num_classes)\n",
    "\n",
    "model = Model(inputs = vgg16.input, outputs = FC_Head)\n",
    "\n",
    "#print(model.summary())"
   ]
  },
  {
   "cell_type": "code",
   "execution_count": null,
   "metadata": {},
   "outputs": [],
   "source": [
    "for (i,layer) in enumerate(model.layers):\n",
    "    print(str(i) + \" \"+ layer.__class__.__name__, layer.trainable)"
   ]
  },
  {
   "cell_type": "code",
   "execution_count": null,
   "metadata": {},
   "outputs": [],
   "source": [
    "model.compile(loss = 'binary_crossentropy',\n",
    "              optimizer = Adam(lr = 0.001),\n",
    "              metrics = ['accuracy'])"
   ]
  },
  {
   "cell_type": "code",
   "execution_count": null,
   "metadata": {},
   "outputs": [],
   "source": [
    "earlystop = EarlyStopping(monitor = 'val_loss', \n",
    "                          min_delta = 0, \n",
    "                          patience = 1,\n",
    "                          verbose = 1,mode='min',\n",
    "                          restore_best_weights = True)\n",
    "\n",
    "reduce_lr = ReduceLROnPlateau(monitor = 'val_loss', mode='min',factor = 0.2, patience = 2, verbose = 1, min_delta = 0.0001)\n",
    "\n",
    "# we put our call backs into a callback list\n",
    "callbacks = [earlystop, reduce_lr]"
   ]
  },
  {
   "cell_type": "code",
   "execution_count": null,
   "metadata": {},
   "outputs": [],
   "source": [
    "output=model.fit()"
   ]
  },
  {
   "cell_type": "code",
   "execution_count": null,
   "metadata": {},
   "outputs": [],
   "source": [
    "plt.plot(output.history['acc'])\n",
    "plt.plot(output.history['val_acc'])\n",
    "plt.title('binary classifier 40X accuracy for  view')\n",
    "plt.ylabel('accuracy')\n",
    "plt.xlabel('epoch')\n",
    "plt.legend(['train', 'test'], loc='upper left')\n",
    "plt.show()\n",
    "# summarize history for loss\n",
    "plt.plot(output.history['loss'])\n",
    "plt.plot(output.history['val_loss'])\n",
    "plt.title('binary classifier 40X loss for  view')\n",
    "plt.ylabel('loss')\n",
    "plt.xlabel('epoch')\n",
    "plt.legend(['train', 'test'], loc='upper left')\n",
    "plt.show()"
   ]
  },
  {
   "cell_type": "code",
   "execution_count": null,
   "metadata": {},
   "outputs": [],
   "source": [
    "N=15\n",
    "\n",
    "for layer in model.layers[:N]:\n",
    "    layer.trainable = False\n",
    "for layer in model.layers[N:]:\n",
    "    layer.trainable = True"
   ]
  },
  {
   "cell_type": "code",
   "execution_count": null,
   "metadata": {},
   "outputs": [],
   "source": [
    "for (i,layer) in enumerate(model.layers):\n",
    "    print(str(i) + \" \"+ layer.__class__.__name__, layer.trainable)"
   ]
  },
  {
   "cell_type": "code",
   "execution_count": null,
   "metadata": {},
   "outputs": [],
   "source": [
    "model.compile(loss = 'binary_crossentropy',\n",
    "              optimizer = Adam(lr = 0.0001),\n",
    "              metrics = ['accuracy'])"
   ]
  },
  {
   "cell_type": "code",
   "execution_count": null,
   "metadata": {},
   "outputs": [],
   "source": [
    "output=model.fit()"
   ]
  },
  {
   "cell_type": "code",
   "execution_count": null,
   "metadata": {},
   "outputs": [],
   "source": [
    "plt.plot(output.history['acc'])\n",
    "plt.plot(output.history['val_acc'])\n",
    "plt.title('binary classifier 40X accuracy for  view')\n",
    "plt.ylabel('accuracy')\n",
    "plt.xlabel('epoch')\n",
    "plt.legend(['train', 'test'], loc='upper left')\n",
    "plt.show()\n",
    "# summarize history for loss\n",
    "plt.plot(output.history['loss'])\n",
    "plt.plot(output.history['val_loss'])\n",
    "plt.title('binary classifier 40X loss for  view')\n",
    "plt.ylabel('loss')\n",
    "plt.xlabel('epoch')\n",
    "plt.legend(['train', 'test'], loc='upper left')\n",
    "plt.show()"
   ]
  },
  {
   "cell_type": "code",
   "execution_count": null,
   "metadata": {},
   "outputs": [],
   "source": []
  },
  {
   "cell_type": "code",
   "execution_count": null,
   "metadata": {},
   "outputs": [],
   "source": []
  },
  {
   "cell_type": "code",
   "execution_count": null,
   "metadata": {},
   "outputs": [],
   "source": []
  },
  {
   "cell_type": "code",
   "execution_count": null,
   "metadata": {},
   "outputs": [],
   "source": []
  },
  {
   "cell_type": "code",
   "execution_count": null,
   "metadata": {},
   "outputs": [],
   "source": []
  },
  {
   "cell_type": "code",
   "execution_count": null,
   "metadata": {},
   "outputs": [],
   "source": []
  },
  {
   "cell_type": "code",
   "execution_count": null,
   "metadata": {},
   "outputs": [],
   "source": []
  }
 ],
 "metadata": {
  "kernelspec": {
   "display_name": "Python 3",
   "language": "python",
   "name": "python3"
  },
  "language_info": {
   "codemirror_mode": {
    "name": "ipython",
    "version": 3
   },
   "file_extension": ".py",
   "mimetype": "text/x-python",
   "name": "python",
   "nbconvert_exporter": "python",
   "pygments_lexer": "ipython3",
   "version": "3.7.3"
  }
 },
 "nbformat": 4,
 "nbformat_minor": 1
}
