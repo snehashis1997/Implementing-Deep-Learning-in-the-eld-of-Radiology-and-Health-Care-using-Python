{
 "cells": [
  {
   "cell_type": "markdown",
   "metadata": {},
   "source": [
    "# importing all librarys"
   ]
  },
  {
   "cell_type": "code",
   "execution_count": 2,
   "metadata": {},
   "outputs": [
    {
     "name": "stderr",
     "output_type": "stream",
     "text": [
      "C:\\Users\\RAD365\\Anaconda3\\lib\\site-packages\\h5py\\__init__.py:36: FutureWarning: Conversion of the second argument of issubdtype from `float` to `np.floating` is deprecated. In future, it will be treated as `np.float64 == np.dtype(float).type`.\n",
      "  from ._conv import register_converters as _register_converters\n",
      "Using TensorFlow backend.\n"
     ]
    }
   ],
   "source": [
    "from keras.callbacks import History\n",
    "import matplotlib.pyplot as plt\n",
    "from tensorflow.keras import regularizers\n",
    "from tensorflow.keras.models import Sequential\n",
    "from tensorflow.keras.layers import Convolution2D,BatchNormalization,GaussianNoise\n",
    "from tensorflow.keras.layers import MaxPooling2D,ZeroPadding2D\n",
    "from tensorflow.keras.layers import Flatten,Activation\n",
    "from tensorflow.keras.layers import Dense,Dropout\n",
    "from tensorflow.keras.preprocessing.image import ImageDataGenerator\n",
    "from tensorflow.keras.optimizers import Adam,SGD\n",
    "from tensorflow.keras.callbacks import EarlyStopping\n",
    "from tensorflow.keras import initializers\n",
    "from keras import backend as K\n",
    "import numpy as np\n",
    "from glob import glob\n",
    "from sklearn.metrics import confusion_matrix,classification_report\n",
    "from sklearn.metrics import auc,roc_curve\n"
   ]
  },
  {
   "cell_type": "markdown",
   "metadata": {},
   "source": [
    "# defining batch size,seeds,height and width of the input image"
   ]
  },
  {
   "cell_type": "code",
   "execution_count": 18,
   "metadata": {},
   "outputs": [],
   "source": [
    "batchsize=32\n",
    "seed=0\n",
    "height=90\n",
    "width=70"
   ]
  },
  {
   "cell_type": "markdown",
   "metadata": {},
   "source": [
    "# define Image DataGenerator for train,validation,test"
   ]
  },
  {
   "cell_type": "code",
   "execution_count": 19,
   "metadata": {},
   "outputs": [],
   "source": [
    "train_datagen = ImageDataGenerator(rescale=1./255,rotation_range=90)\n",
    "\n",
    "test_datagen = ImageDataGenerator(rescale=1./255)\n",
    "\n",
    "valid_datagen = ImageDataGenerator(rescale=1./255)"
   ]
  },
  {
   "cell_type": "markdown",
   "metadata": {},
   "source": [
    "# train,validation,test path defining"
   ]
  },
  {
   "cell_type": "code",
   "execution_count": 20,
   "metadata": {},
   "outputs": [],
   "source": [
    "path_test=r'C:\\Users\\RAD365\\Desktop\\snehashis_internship\\dataset\\us-dataset\\originals\\predict'\n",
    "path_train=r'C:\\Users\\RAD365\\Desktop\\snehashis_internship\\dataset\\us-dataset\\originals\\train'\n",
    "path_valid=r'C:\\Users\\RAD365\\Desktop\\snehashis_internship\\dataset\\us-dataset\\originals\\valid'"
   ]
  },
  {
   "cell_type": "markdown",
   "metadata": {},
   "source": [
    "# creating train,validation,test dataset using flow from directory"
   ]
  },
  {
   "cell_type": "code",
   "execution_count": 21,
   "metadata": {},
   "outputs": [
    {
     "name": "stdout",
     "output_type": "stream",
     "text": [
      "Found 200 images belonging to 2 classes.\n",
      "Found 94 images belonging to 2 classes.\n",
      "Found 25 images belonging to 2 classes.\n"
     ]
    }
   ],
   "source": [
    "train_set = train_datagen.flow_from_directory(path_train,\n",
    "                                                 target_size=(height,width),color_mode = \"grayscale\",\n",
    "                                                 class_mode='binary',\n",
    "                                                 batch_size=batchsize,seed=seed)\n",
    "                                            \n",
    "valid_set = valid_datagen.flow_from_directory(path_valid,\n",
    "                                            target_size=(height,width),color_mode = \"grayscale\",\n",
    "                                            batch_size=batchsize,\n",
    "                                            class_mode='binary',seed=seed)\n",
    "\n",
    "\n",
    "test_set = test_datagen.flow_from_directory(path_test,color_mode = \"grayscale\",\n",
    "                                            target_size=(height,width),\n",
    "                                            batch_size=batchsize,\n",
    "                                            class_mode='binary',seed=seed)"
   ]
  },
  {
   "cell_type": "markdown",
   "metadata": {},
   "source": [
    "# define sequential model using keras library tensorflow backend"
   ]
  },
  {
   "cell_type": "code",
   "execution_count": 22,
   "metadata": {},
   "outputs": [],
   "source": [
    "model=Sequential()\n",
    "model.add(GaussianNoise(0.05))\n",
    "model.add(Convolution2D(8,kernel_size=(3,3),\n",
    "                        activation='relu',\n",
    "                        kernel_regularizer=regularizers.l2(0.0001),\n",
    "                        input_shape=(height,width,1)))\n",
    "model.add(BatchNormalization())\n",
    "model.add(MaxPooling2D(2,2))\n",
    "\n",
    "model.add(Convolution2D(8,kernel_size=(3,3),\n",
    "                        activation='relu',\n",
    "                        kernel_regularizer=regularizers.l2(0.0001)))\n",
    "model.add(BatchNormalization())\n",
    "model.add(MaxPooling2D(2,2))\n",
    "model.add(Dropout(0.5))\n",
    "\n",
    "model.add(Flatten())\n",
    "model.add(Dense(32,\n",
    "                activation='relu',\n",
    "                kernel_regularizer=regularizers.l2(0.0001)))\n",
    "\n",
    "model.add(BatchNormalization())\n",
    "model.add(Dropout(0.8))\n",
    "\n",
    "model.add(Dense(1,activation='sigmoid'))"
   ]
  },
  {
   "cell_type": "markdown",
   "metadata": {},
   "source": [
    "# compiling model,define the callbacks early-stopping"
   ]
  },
  {
   "cell_type": "code",
   "execution_count": 23,
   "metadata": {},
   "outputs": [],
   "source": [
    "model.compile(optimizer=Adam(0.0001), loss='binary_crossentropy', metrics=['acc'])\n",
    "va = EarlyStopping(monitor='val_loss', mode='min', verbose=1, patience=50)"
   ]
  },
  {
   "cell_type": "markdown",
   "metadata": {},
   "source": [
    "# Printing sequential model"
   ]
  },
  {
   "cell_type": "code",
   "execution_count": 24,
   "metadata": {},
   "outputs": [
    {
     "data": {
      "text/plain": [
       "<bound method Network.summary of <tensorflow.python.keras.engine.sequential.Sequential object at 0x000002CA87279198>>"
      ]
     },
     "execution_count": 24,
     "metadata": {},
     "output_type": "execute_result"
    }
   ],
   "source": [
    "model.summary"
   ]
  },
  {
   "cell_type": "markdown",
   "metadata": {},
   "source": [
    "# Training model"
   ]
  },
  {
   "cell_type": "code",
   "execution_count": 10,
   "metadata": {},
   "outputs": [
    {
     "name": "stdout",
     "output_type": "stream",
     "text": [
      "Epoch 1/80\n",
      "7/6 [=================================] - 6s 822ms/step - loss: 1.3846 - acc: 0.4720 - val_loss: 0.7351 - val_acc: 0.2766\n",
      "Epoch 2/80\n",
      "7/6 [=================================] - 2s 316ms/step - loss: 1.4061 - acc: 0.5396 - val_loss: 0.7380 - val_acc: 0.2766\n",
      "Epoch 3/80\n",
      "7/6 [=================================] - 2s 323ms/step - loss: 1.3877 - acc: 0.5290 - val_loss: 0.7397 - val_acc: 0.3511\n",
      "Epoch 4/80\n",
      "7/6 [=================================] - 2s 328ms/step - loss: 1.2761 - acc: 0.5478 - val_loss: 0.7423 - val_acc: 0.3191\n",
      "Epoch 5/80\n",
      "7/6 [=================================] - 2s 315ms/step - loss: 1.5379 - acc: 0.5558 - val_loss: 0.7401 - val_acc: 0.2447\n",
      "Epoch 6/80\n",
      "7/6 [=================================] - 2s 317ms/step - loss: 1.2527 - acc: 0.5038 - val_loss: 0.7357 - val_acc: 0.3191\n",
      "Epoch 7/80\n",
      "7/6 [=================================] - 2s 325ms/step - loss: 1.3248 - acc: 0.5600 - val_loss: 0.7326 - val_acc: 0.4362\n",
      "Epoch 8/80\n",
      "7/6 [=================================] - 2s 314ms/step - loss: 1.2386 - acc: 0.5499 - val_loss: 0.7298 - val_acc: 0.4362\n",
      "Epoch 9/80\n",
      "7/6 [=================================] - 2s 308ms/step - loss: 1.5136 - acc: 0.5092 - val_loss: 0.7276 - val_acc: 0.5426\n",
      "Epoch 10/80\n",
      "7/6 [=================================] - 2s 312ms/step - loss: 1.2309 - acc: 0.5309 - val_loss: 0.7259 - val_acc: 0.6064\n",
      "Epoch 11/80\n",
      "7/6 [=================================] - 2s 316ms/step - loss: 1.2091 - acc: 0.5753 - val_loss: 0.7256 - val_acc: 0.6064\n",
      "Epoch 12/80\n",
      "7/6 [=================================] - 2s 306ms/step - loss: 1.2223 - acc: 0.5976 - val_loss: 0.7241 - val_acc: 0.5638\n",
      "Epoch 13/80\n",
      "7/6 [=================================] - 2s 317ms/step - loss: 1.1513 - acc: 0.5325 - val_loss: 0.7232 - val_acc: 0.5532\n",
      "Epoch 14/80\n",
      "7/6 [=================================] - 2s 314ms/step - loss: 1.2548 - acc: 0.5760 - val_loss: 0.7224 - val_acc: 0.5532\n",
      "Epoch 15/80\n",
      "7/6 [=================================] - 2s 311ms/step - loss: 1.4013 - acc: 0.4841 - val_loss: 0.7206 - val_acc: 0.5532\n",
      "Epoch 16/80\n",
      "7/6 [=================================] - 2s 318ms/step - loss: 1.4429 - acc: 0.4970 - val_loss: 0.7175 - val_acc: 0.5532\n",
      "Epoch 17/80\n",
      "7/6 [=================================] - 2s 328ms/step - loss: 1.3626 - acc: 0.4700 - val_loss: 0.7155 - val_acc: 0.5532\n",
      "Epoch 18/80\n",
      "7/6 [=================================] - 2s 326ms/step - loss: 1.4488 - acc: 0.4378 - val_loss: 0.7124 - val_acc: 0.5532\n",
      "Epoch 19/80\n",
      "7/6 [=================================] - 2s 345ms/step - loss: 1.2093 - acc: 0.5780 - val_loss: 0.7074 - val_acc: 0.5532\n",
      "Epoch 20/80\n",
      "7/6 [=================================] - 2s 315ms/step - loss: 1.0903 - acc: 0.5885 - val_loss: 0.7043 - val_acc: 0.5532\n",
      "Epoch 21/80\n",
      "7/6 [=================================] - 2s 349ms/step - loss: 1.1648 - acc: 0.5632 - val_loss: 0.6997 - val_acc: 0.5532\n",
      "Epoch 22/80\n",
      "7/6 [=================================] - 3s 424ms/step - loss: 1.0762 - acc: 0.6559 - val_loss: 0.6967 - val_acc: 0.5532\n",
      "Epoch 23/80\n",
      "7/6 [=================================] - 2s 350ms/step - loss: 1.3261 - acc: 0.5227 - val_loss: 0.6914 - val_acc: 0.5745\n",
      "Epoch 24/80\n",
      "7/6 [=================================] - 2s 319ms/step - loss: 1.2546 - acc: 0.5528 - val_loss: 0.6877 - val_acc: 0.5957\n",
      "Epoch 25/80\n",
      "7/6 [=================================] - 2s 319ms/step - loss: 1.2658 - acc: 0.6344 - val_loss: 0.6866 - val_acc: 0.5957\n",
      "Epoch 26/80\n",
      "7/6 [=================================] - 2s 328ms/step - loss: 1.1629 - acc: 0.5976 - val_loss: 0.6856 - val_acc: 0.5957\n",
      "Epoch 27/80\n",
      "7/6 [=================================] - 2s 320ms/step - loss: 1.2342 - acc: 0.6389 - val_loss: 0.6827 - val_acc: 0.5957\n",
      "Epoch 28/80\n",
      "7/6 [=================================] - 2s 336ms/step - loss: 1.2210 - acc: 0.6125 - val_loss: 0.6779 - val_acc: 0.6064\n",
      "Epoch 29/80\n",
      "7/6 [=================================] - 2s 321ms/step - loss: 1.2587 - acc: 0.5702 - val_loss: 0.6766 - val_acc: 0.6277\n",
      "Epoch 30/80\n",
      "7/6 [=================================] - 2s 316ms/step - loss: 1.0000 - acc: 0.5945 - val_loss: 0.6748 - val_acc: 0.6277\n",
      "Epoch 31/80\n",
      "7/6 [=================================] - 2s 357ms/step - loss: 1.2693 - acc: 0.5238 - val_loss: 0.6699 - val_acc: 0.6383\n",
      "Epoch 32/80\n",
      "7/6 [=================================] - 2s 348ms/step - loss: 1.1313 - acc: 0.6261 - val_loss: 0.6644 - val_acc: 0.6596\n",
      "Epoch 33/80\n",
      "7/6 [=================================] - 2s 344ms/step - loss: 1.0514 - acc: 0.6191 - val_loss: 0.6595 - val_acc: 0.6596\n",
      "Epoch 34/80\n",
      "7/6 [=================================] - 2s 324ms/step - loss: 1.0422 - acc: 0.6150 - val_loss: 0.6542 - val_acc: 0.6702\n",
      "Epoch 35/80\n",
      "7/6 [=================================] - 2s 328ms/step - loss: 1.1879 - acc: 0.6049 - val_loss: 0.6437 - val_acc: 0.7021\n",
      "Epoch 36/80\n",
      "7/6 [=================================] - 2s 317ms/step - loss: 0.8720 - acc: 0.6397 - val_loss: 0.6359 - val_acc: 0.7340\n",
      "Epoch 37/80\n",
      "7/6 [=================================] - 2s 315ms/step - loss: 1.2690 - acc: 0.5611 - val_loss: 0.6257 - val_acc: 0.7553\n",
      "Epoch 38/80\n",
      "7/6 [=================================] - 2s 308ms/step - loss: 1.0294 - acc: 0.5900 - val_loss: 0.6168 - val_acc: 0.7766\n",
      "Epoch 39/80\n",
      "7/6 [=================================] - 2s 329ms/step - loss: 1.0228 - acc: 0.5749 - val_loss: 0.6119 - val_acc: 0.7872\n",
      "Epoch 40/80\n",
      "7/6 [=================================] - 2s 321ms/step - loss: 1.1653 - acc: 0.6410 - val_loss: 0.6069 - val_acc: 0.7872\n",
      "Epoch 41/80\n",
      "7/6 [=================================] - 2s 311ms/step - loss: 1.1759 - acc: 0.5885 - val_loss: 0.6007 - val_acc: 0.7766\n",
      "Epoch 42/80\n",
      "7/6 [=================================] - 2s 324ms/step - loss: 1.2526 - acc: 0.5456 - val_loss: 0.5950 - val_acc: 0.7766\n",
      "Epoch 43/80\n",
      "7/6 [=================================] - 2s 331ms/step - loss: 1.0855 - acc: 0.6813 - val_loss: 0.5871 - val_acc: 0.7553\n",
      "Epoch 44/80\n",
      "7/6 [=================================] - 2s 334ms/step - loss: 1.3068 - acc: 0.6039 - val_loss: 0.5801 - val_acc: 0.7660\n",
      "Epoch 45/80\n",
      "7/6 [=================================] - 2s 321ms/step - loss: 1.2006 - acc: 0.6148 - val_loss: 0.5720 - val_acc: 0.7660\n",
      "Epoch 46/80\n",
      "7/6 [=================================] - 2s 314ms/step - loss: 1.0907 - acc: 0.6249 - val_loss: 0.5659 - val_acc: 0.7553\n",
      "Epoch 47/80\n",
      "7/6 [=================================] - 2s 313ms/step - loss: 1.1055 - acc: 0.5742 - val_loss: 0.5577 - val_acc: 0.7128\n",
      "Epoch 48/80\n",
      "7/6 [=================================] - 2s 331ms/step - loss: 1.4479 - acc: 0.5701 - val_loss: 0.5460 - val_acc: 0.6915\n",
      "Epoch 49/80\n",
      "7/6 [=================================] - 2s 341ms/step - loss: 1.1455 - acc: 0.6724 - val_loss: 0.5355 - val_acc: 0.6702\n",
      "Epoch 50/80\n",
      "7/6 [=================================] - 2s 345ms/step - loss: 1.1835 - acc: 0.5976 - val_loss: 0.5244 - val_acc: 0.7128\n",
      "Epoch 51/80\n",
      "7/6 [=================================] - 2s 335ms/step - loss: 0.9356 - acc: 0.6708 - val_loss: 0.5130 - val_acc: 0.7447\n",
      "Epoch 52/80\n",
      "7/6 [=================================] - 2s 315ms/step - loss: 0.9963 - acc: 0.6872 - val_loss: 0.5041 - val_acc: 0.7660\n",
      "Epoch 53/80\n",
      "7/6 [=================================] - 2s 323ms/step - loss: 1.0444 - acc: 0.6997 - val_loss: 0.4947 - val_acc: 0.8191\n",
      "Epoch 54/80\n",
      "7/6 [=================================] - 2s 339ms/step - loss: 1.0493 - acc: 0.5987 - val_loss: 0.4852 - val_acc: 0.8617\n",
      "Epoch 55/80\n",
      "7/6 [=================================] - 2s 321ms/step - loss: 1.0410 - acc: 0.6784 - val_loss: 0.4753 - val_acc: 0.8617\n",
      "Epoch 56/80\n",
      "7/6 [=================================] - 2s 301ms/step - loss: 0.9488 - acc: 0.7554 - val_loss: 0.4635 - val_acc: 0.8830\n",
      "Epoch 57/80\n",
      "7/6 [=================================] - 2s 319ms/step - loss: 0.9658 - acc: 0.5801 - val_loss: 0.4500 - val_acc: 0.8936\n",
      "Epoch 58/80\n",
      "7/6 [=================================] - 2s 308ms/step - loss: 0.9987 - acc: 0.6950 - val_loss: 0.4398 - val_acc: 0.8936\n",
      "Epoch 59/80\n",
      "7/6 [=================================] - 2s 337ms/step - loss: 1.0901 - acc: 0.5650 - val_loss: 0.4318 - val_acc: 0.8936\n",
      "Epoch 60/80\n",
      "7/6 [=================================] - 2s 328ms/step - loss: 1.0236 - acc: 0.5940 - val_loss: 0.4248 - val_acc: 0.8936\n",
      "Epoch 61/80\n",
      "7/6 [=================================] - 2s 332ms/step - loss: 0.9810 - acc: 0.6720 - val_loss: 0.4161 - val_acc: 0.9043\n",
      "Epoch 62/80\n"
     ]
    },
    {
     "name": "stdout",
     "output_type": "stream",
     "text": [
      "7/6 [=================================] - 2s 314ms/step - loss: 1.0933 - acc: 0.6466 - val_loss: 0.4096 - val_acc: 0.9043\n",
      "Epoch 63/80\n",
      "7/6 [=================================] - 2s 319ms/step - loss: 0.8198 - acc: 0.6815 - val_loss: 0.4036 - val_acc: 0.9043\n",
      "Epoch 64/80\n",
      "7/6 [=================================] - 2s 328ms/step - loss: 0.9679 - acc: 0.6690 - val_loss: 0.3942 - val_acc: 0.9043\n",
      "Epoch 65/80\n",
      "7/6 [=================================] - 2s 326ms/step - loss: 1.0749 - acc: 0.6405 - val_loss: 0.3851 - val_acc: 0.9149\n",
      "Epoch 66/80\n",
      "7/6 [=================================] - 2s 316ms/step - loss: 0.9760 - acc: 0.6562 - val_loss: 0.3753 - val_acc: 0.9149\n",
      "Epoch 67/80\n",
      "7/6 [=================================] - 2s 322ms/step - loss: 0.9536 - acc: 0.6974 - val_loss: 0.3698 - val_acc: 0.9255\n",
      "Epoch 68/80\n",
      "7/6 [=================================] - 2s 317ms/step - loss: 1.3967 - acc: 0.5886 - val_loss: 0.3678 - val_acc: 0.9255\n",
      "Epoch 69/80\n",
      "7/6 [=================================] - 2s 306ms/step - loss: 0.8188 - acc: 0.6625 - val_loss: 0.3648 - val_acc: 0.9255\n",
      "Epoch 70/80\n",
      "7/6 [=================================] - 2s 308ms/step - loss: 0.9079 - acc: 0.7146 - val_loss: 0.3591 - val_acc: 0.9255\n",
      "Epoch 71/80\n",
      "7/6 [=================================] - 2s 304ms/step - loss: 1.0439 - acc: 0.6320 - val_loss: 0.3545 - val_acc: 0.9362\n",
      "Epoch 72/80\n",
      "7/6 [=================================] - 2s 341ms/step - loss: 1.0011 - acc: 0.6798 - val_loss: 0.3484 - val_acc: 0.9362\n",
      "Epoch 73/80\n",
      "7/6 [=================================] - 2s 324ms/step - loss: 1.0006 - acc: 0.5695 - val_loss: 0.3412 - val_acc: 0.9362\n",
      "Epoch 74/80\n",
      "7/6 [=================================] - 2s 317ms/step - loss: 1.2401 - acc: 0.6230 - val_loss: 0.3324 - val_acc: 0.9468\n",
      "Epoch 75/80\n",
      "7/6 [=================================] - 2s 332ms/step - loss: 0.9386 - acc: 0.7902 - val_loss: 0.3263 - val_acc: 0.9468\n",
      "Epoch 76/80\n",
      "7/6 [=================================] - 2s 315ms/step - loss: 0.8764 - acc: 0.7143 - val_loss: 0.3208 - val_acc: 0.9468\n",
      "Epoch 77/80\n",
      "7/6 [=================================] - 2s 315ms/step - loss: 0.9570 - acc: 0.6643 - val_loss: 0.3181 - val_acc: 0.9574\n",
      "Epoch 78/80\n",
      "7/6 [=================================] - 2s 317ms/step - loss: 0.8284 - acc: 0.7005 - val_loss: 0.3134 - val_acc: 0.9468\n",
      "Epoch 79/80\n",
      "7/6 [=================================] - 2s 320ms/step - loss: 1.0322 - acc: 0.6737 - val_loss: 0.3081 - val_acc: 0.9468\n",
      "Epoch 80/80\n",
      "7/6 [=================================] - 2s 312ms/step - loss: 0.8889 - acc: 0.6502 - val_loss: 0.3049 - val_acc: 0.9468\n"
     ]
    }
   ],
   "source": [
    "output=model.fit_generator(train_set,\n",
    "                           steps_per_epoch =200/batchsize ,\n",
    "                           epochs = 80,\n",
    "                           validation_data=valid_set,\n",
    "                           validation_steps = 94/batchsize)"
   ]
  },
  {
   "cell_type": "markdown",
   "metadata": {},
   "source": [
    "# ploting accuracy and loss curve of the model"
   ]
  },
  {
   "cell_type": "code",
   "execution_count": 11,
   "metadata": {},
   "outputs": [
    {
     "data": {
      "image/png": "[encoded data removed]",
      "text/plain": [
       "<Figure size 432x216 with 1 Axes>"
      ]
     },
     "metadata": {},
     "output_type": "display_data"
    },
    {
     "data": {
      "image/png": "[encoded data removed]",
      "text/plain": [
       "<Figure size 432x216 with 1 Axes>"
      ]
     },
     "metadata": {},
     "output_type": "display_data"
    }
   ],
   "source": [
    "plt.figure(figsize=(6,3))\n",
    "plt.plot(output.history['acc'])\n",
    "plt.plot(output.history['val_acc'])\n",
    "plt.title('classifier ultra sound breast cancer dataset accuracy')\n",
    "plt.ylabel('accuracy')\n",
    "plt.xlabel('epoch')\n",
    "plt.legend(['train', 'test'], loc='upper left')\n",
    "plt.show()\n",
    "# summarize history for loss\n",
    "plt.figure(figsize=(6,3))\n",
    "plt.plot(output.history['loss'])\n",
    "plt.plot(output.history['val_loss'])\n",
    "plt.title('classifier ultra sound breast cancer dataset loss')\n",
    "plt.ylabel('loss')\n",
    "plt.xlabel('epoch')\n",
    "plt.legend(['train', 'test'], loc='upper left')\n",
    "plt.show()"
   ]
  },
  {
   "cell_type": "markdown",
   "metadata": {},
   "source": [
    "# evluate the model"
   ]
  },
  {
   "cell_type": "code",
   "execution_count": 12,
   "metadata": {},
   "outputs": [
    {
     "name": "stdout",
     "output_type": "stream",
     "text": [
      "test accuracy:1.0\n",
      "test loss: 0.3254849910736084\n"
     ]
    }
   ],
   "source": [
    "test_loss, test_acc=model.evaluate_generator(test_set)\n",
    "\n",
    "print('test accuracy:'+str(test_acc))\n",
    "print('test loss: '+str(test_loss))"
   ]
  },
  {
   "cell_type": "markdown",
   "metadata": {},
   "source": [
    "#  define the y_true values"
   ]
  },
  {
   "cell_type": "code",
   "execution_count": 13,
   "metadata": {},
   "outputs": [],
   "source": [
    "zeros=np.zeros((10,1))\n",
    "ones=np.ones((15,1))\n",
    "\n",
    "y_true=np.concatenate((ones,zeros), axis=0)"
   ]
  },
  {
   "cell_type": "markdown",
   "metadata": {},
   "source": [
    "# predicting y_hat values of input testing dataset"
   ]
  },
  {
   "cell_type": "code",
   "execution_count": 14,
   "metadata": {},
   "outputs": [],
   "source": [
    "y_hat=[]\n",
    "path_test_png=r'C:\\Users\\RAD365\\Desktop\\snehashis_internship\\dataset\\us-dataset\\originals\\predict\\*.bmp'\n",
    "from keras.preprocessing import image\n",
    "pngss=glob(path_test_png)\n",
    "for i in range(len(pngss)):\n",
    "    test_image = image.load_img(pngss[i] ,target_size= (90,70),color_mode = \"grayscale\")\n",
    "    arr = np.array(test_image)\n",
    "    arr = np.true_divide(arr,[255.0],out=None)\n",
    "\n",
    "\n",
    "# Changing the input of the size...\n",
    "    test_image = image.img_to_array(arr)\n",
    "\n",
    "# Adding a new dimension (the placement of the image in the batchsize)\n",
    "    test_image = np.expand_dims(test_image, axis=0)\n",
    "\n",
    "    predic_classes = model.predict_classes(test_image)\n",
    "    y_hat.append(predic_classes[0])"
   ]
  },
  {
   "cell_type": "markdown",
   "metadata": {},
   "source": [
    "# ploting confusion matrix"
   ]
  },
  {
   "cell_type": "code",
   "execution_count": 15,
   "metadata": {},
   "outputs": [
    {
     "name": "stdout",
     "output_type": "stream",
     "text": [
      "[[10  0]\n",
      " [ 0 15]]\n"
     ]
    }
   ],
   "source": [
    "cm=confusion_matrix(y_true,y_hat)\n",
    "print(cm)"
   ]
  },
  {
   "cell_type": "markdown",
   "metadata": {},
   "source": [
    "# find AUC SCORE,ROC_CURVE"
   ]
  },
  {
   "cell_type": "code",
   "execution_count": 16,
   "metadata": {},
   "outputs": [
    {
     "name": "stdout",
     "output_type": "stream",
     "text": [
      "auc score is:1.0\n",
      "predict accuracy:1.0\n"
     ]
    }
   ],
   "source": [
    "y_true=list(y_true)\n",
    "y_hat=list(y_hat)\n",
    "\n",
    "from sklearn.metrics import auc,roc_curve\n",
    "#classi_report=classification_report(y_true, y_hat)\n",
    "fpr_keras, tpr_keras, thresholds_keras = roc_curve(y_true, y_hat)\n",
    "auc_curve=auc(fpr_keras, tpr_keras)\n",
    "\n",
    "print('auc score is:'+str(auc_curve))\n",
    "\n",
    "test_accuracy=(cm[0,0]+cm[1,1])/(cm[0,0]+cm[1,1]+cm[1,0]+cm[0,1])\n",
    "print('predict accuracy:'+str(test_accuracy))"
   ]
  },
  {
   "cell_type": "markdown",
   "metadata": {},
   "source": [
    "# ploting ROC CURVE"
   ]
  },
  {
   "cell_type": "code",
   "execution_count": 17,
   "metadata": {},
   "outputs": [
    {
     "data": {
      "image/png": "[encoded data removed]",
      "text/plain": [
       "<Figure size 432x288 with 1 Axes>"
      ]
     },
     "metadata": {},
     "output_type": "display_data"
    }
   ],
   "source": [
    "plt.plot([0, 1], [0, 1], 'k--')\n",
    "plt.plot(fpr_keras, tpr_keras, label='AUC = {:.3f}'.format(auc_curve))\n",
    "plt.xlabel('False positive rate')\n",
    "plt.ylabel('True positive rate')\n",
    "plt.title('ROC curve')\n",
    "plt.legend(loc='best')\n",
    "plt.show()"
   ]
  },
  {
   "cell_type": "markdown",
   "metadata": {},
   "source": []
  }
 ],
 "metadata": {
  "kernelspec": {
   "display_name": "Python 3",
   "language": "python",
   "name": "python3"
  },
  "language_info": {
   "codemirror_mode": {
    "name": "ipython",
    "version": 3
   },
   "file_extension": ".py",
   "mimetype": "text/x-python",
   "name": "python",
   "nbconvert_exporter": "python",
   "pygments_lexer": "ipython3",
   "version": "3.6.5"
  }
 },
 "nbformat": 4,
 "nbformat_minor": 2
}
